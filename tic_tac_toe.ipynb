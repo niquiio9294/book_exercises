{
 "cells": [
  {
   "cell_type": "code",
   "execution_count": 282,
   "metadata": {},
   "outputs": [
    {
     "name": "stdout",
     "output_type": "stream",
     "text": [
      "\n",
      " Position      \n",
      " Avalible\t   Board\n",
      " 0 | 1 | 2\t   |   |  \n",
      "---+---+---\t---+---+---\n",
      " 3 | 4 | 5\t   |   |  \n",
      "---+---+---\t---+---+---\n",
      " 6 | 7 | 8\t   |   |  \n",
      "\n"
     ]
    }
   ],
   "source": [
    "tic_tac_toe = [' ',' ',' ',\n",
    "            ' ',' ',' ',\n",
    "            ' ',' ',' ']\n",
    "position = list(range(9))\n",
    "def print_tic_tac_toe(position,tic_tac_toe):\n",
    "    print(f\"\"\"\n",
    " Position      \n",
    " Avalible\\t   Board\n",
    " {position[0]} | {position[1]} | {position[2]}\\t {tic_tac_toe[0]} | {tic_tac_toe[1]} | {tic_tac_toe[2]}\n",
    "---+---+---\\t---+---+---\n",
    " {position[3]} | {position[4]} | {position[5]}\\t {tic_tac_toe[3]} | {tic_tac_toe[4]} | {tic_tac_toe[5]}\n",
    "---+---+---\\t---+---+---\n",
    " {position[6]} | {position[7]} | {position[8]}\\t {tic_tac_toe[6]} | {tic_tac_toe[7]} | {tic_tac_toe[8]}\n",
    "\"\"\")\n",
    "print_tic_tac_toe(position,tic_tac_toe)"
   ]
  },
  {
   "cell_type": "code",
   "execution_count": 251,
   "metadata": {},
   "outputs": [],
   "source": [
    "def rules_tic_tac_toe(tic_tac_toe):\n",
    "    aux = ('X','O')\n",
    "    for i,x in enumerate(aux): \n",
    "        if (tic_tac_toe[:3].count(x)==3 ) or \\\n",
    "                tic_tac_toe[3:6].count(x)==3 or\\\n",
    "                tic_tac_toe[6:].count(x)==3 or\\\n",
    "                tic_tac_toe[::3].count(x)==3 or\\\n",
    "                tic_tac_toe[1::3].count(x)==3 or\\\n",
    "                tic_tac_toe[2::3].count(x)==3 or\\\n",
    "                tic_tac_toe[::4].count(x)==3 or\\\n",
    "                tic_tac_toe[2::2][:-1].count(x)==3:\n",
    "                print(f\"{x} Wins!\")\n",
    "                return i + 1\n",
    "    return 0\n"
   ]
  },
  {
   "cell_type": "code",
   "execution_count": 286,
   "metadata": {},
   "outputs": [
    {
     "name": "stdout",
     "output_type": "stream",
     "text": [
      "\n",
      " Position      \n",
      " Avalible\t   Board\n",
      " 0 | 1 | 2\t   |   |  \n",
      "---+---+---\t---+---+---\n",
      " 3 | 4 | 5\t   |   |  \n",
      "---+---+---\t---+---+---\n",
      " 6 | 7 | 8\t   |   |  \n",
      "\n",
      "\n",
      " Position      \n",
      " Avalible\t   Board\n",
      " 0 | * | 2\t   | X |  \n",
      "---+---+---\t---+---+---\n",
      " 3 | 4 | 5\t   |   |  \n",
      "---+---+---\t---+---+---\n",
      " 6 | 7 | 8\t   |   |  \n",
      "\n",
      "\n",
      " Position      \n",
      " Avalible\t   Board\n",
      " 0 | * | 2\t   | O |  \n",
      "---+---+---\t---+---+---\n",
      " 3 | 4 | 5\t   |   |  \n",
      "---+---+---\t---+---+---\n",
      " 6 | 7 | 8\t   |   |  \n",
      "\n",
      "\n",
      " Position      \n",
      " Avalible\t   Board\n",
      " 0 | * | *\t   | O | X\n",
      "---+---+---\t---+---+---\n",
      " 3 | 4 | 5\t   |   |  \n",
      "---+---+---\t---+---+---\n",
      " 6 | 7 | 8\t   |   |  \n",
      "\n",
      "\n",
      " Position      \n",
      " Avalible\t   Board\n",
      " 0 | * | *\t   | O | X\n",
      "---+---+---\t---+---+---\n",
      " * | 4 | 5\t O |   |  \n",
      "---+---+---\t---+---+---\n",
      " 6 | 7 | 8\t   |   |  \n",
      "\n"
     ]
    },
    {
     "ename": "ValueError",
     "evalue": "invalid literal for int() with base 10: ''",
     "output_type": "error",
     "traceback": [
      "\u001b[0;31m---------------------------------------------------------------------------\u001b[0m",
      "\u001b[0;31mValueError\u001b[0m                                Traceback (most recent call last)",
      "\u001b[1;32m/home/matias/Documents/book_samples/tic_tac_toe.ipynb Cell 3\u001b[0m line \u001b[0;36m8\n\u001b[1;32m      <a href='vscode-notebook-cell:/home/matias/Documents/book_samples/tic_tac_toe.ipynb#X32sZmlsZQ%3D%3D?line=5'>6</a>\u001b[0m print_tic_tac_toe(position,tic_tac_toe)\n\u001b[1;32m      <a href='vscode-notebook-cell:/home/matias/Documents/book_samples/tic_tac_toe.ipynb#X32sZmlsZQ%3D%3D?line=6'>7</a>\u001b[0m \u001b[39mif\u001b[39;00m x\u001b[39m%\u001b[39m\u001b[39m2\u001b[39m \u001b[39m==\u001b[39m \u001b[39m0\u001b[39m:\n\u001b[0;32m----> <a href='vscode-notebook-cell:/home/matias/Documents/book_samples/tic_tac_toe.ipynb#X32sZmlsZQ%3D%3D?line=7'>8</a>\u001b[0m     aux \u001b[39m=\u001b[39m \u001b[39mint\u001b[39;49m(\u001b[39minput\u001b[39;49m(\u001b[39m\"\u001b[39;49m\u001b[39mX turn: \u001b[39;49m\u001b[39m\"\u001b[39;49m))\u001b[39m%\u001b[39m\u001b[39m9\u001b[39m\n\u001b[1;32m      <a href='vscode-notebook-cell:/home/matias/Documents/book_samples/tic_tac_toe.ipynb#X32sZmlsZQ%3D%3D?line=8'>9</a>\u001b[0m     tic_tac_toe[aux] \u001b[39m=\u001b[39m \u001b[39m'\u001b[39m\u001b[39mX\u001b[39m\u001b[39m'\u001b[39m\n\u001b[1;32m     <a href='vscode-notebook-cell:/home/matias/Documents/book_samples/tic_tac_toe.ipynb#X32sZmlsZQ%3D%3D?line=9'>10</a>\u001b[0m     position[aux] \u001b[39m=\u001b[39m \u001b[39m'\u001b[39m\u001b[39m*\u001b[39m\u001b[39m'\u001b[39m\n",
      "\u001b[0;31mValueError\u001b[0m: invalid literal for int() with base 10: ''"
     ]
    }
   ],
   "source": [
    "def play_game():\n",
    "    tic_tac_toe = [' ',' ',' ',\n",
    "                ' ',' ',' ',\n",
    "                ' ',' ',' ']\n",
    "    position = list(range(9))\n",
    "    for x in range(9):\n",
    "        print_tic_tac_toe(position,tic_tac_toe)\n",
    "        if x%2 == 0:\n",
    "            aux = int(input(\"X turn: \"))%9\n",
    "            tic_tac_toe[aux] = 'X'\n",
    "            position[aux] = '*'\n",
    "        else:\n",
    "            aux = int(input(\"O turn: \"))%9\n",
    "            tic_tac_toe[aux] = 'O'\n",
    "            position[aux] = '*'\n",
    "        \n",
    "        if rules_tic_tac_toe(tic_tac_toe):\n",
    "            break\n",
    "    else:\n",
    "        print(\"No one Win...\")\n",
    "    print_tic_tac_toe(position,tic_tac_toe)"
   ]
  },
  {
   "cell_type": "code",
   "execution_count": 222,
   "metadata": {},
   "outputs": [
    {
     "data": {
      "text/plain": [
       "0"
      ]
     },
     "execution_count": 222,
     "metadata": {},
     "output_type": "execute_result"
    }
   ],
   "source": [
    "tic_tac_toe.index('')"
   ]
  },
  {
   "cell_type": "code",
   "execution_count": 224,
   "metadata": {},
   "outputs": [
    {
     "data": {
      "text/plain": [
       "[0, 1, 2, 3, 4, 5, 6, 7, 8]"
      ]
     },
     "execution_count": 224,
     "metadata": {},
     "output_type": "execute_result"
    }
   ],
   "source": [
    "list(range(9))"
   ]
  },
  {
   "cell_type": "code",
   "execution_count": 246,
   "metadata": {},
   "outputs": [
    {
     "name": "stdout",
     "output_type": "stream",
     "text": [
      "\n",
      "  |   |              |   |  \n",
      "---+---+---        ---+---+---\n",
      "  |   |              |   |  \n",
      "---+---+---        ---+---+---\n",
      "  |   |              |   |  \n",
      "\n"
     ]
    }
   ],
   "source": [
    "print_tic_tac_toe(tic_tac_toe)"
   ]
  },
  {
   "cell_type": "code",
   "execution_count": 288,
   "metadata": {},
   "outputs": [
    {
     "name": "stdout",
     "output_type": "stream",
     "text": [
      "\n",
      " Position      \n",
      " Avalible\t   Board\n",
      " 0 | * | *\t X |   | X\n",
      "---+---+---\t---+---+---\n",
      " * | 4 | 5\t   | X |  \n",
      "---+---+---\t---+---+---\n",
      " 6 | 7 | 8\t   |   |  \n",
      "\n"
     ]
    },
    {
     "data": {
      "text/plain": [
       "0"
      ]
     },
     "execution_count": 288,
     "metadata": {},
     "output_type": "execute_result"
    }
   ],
   "source": [
    "tic_tac_toe=['X',' ','X',\n",
    "            ' ','X',' ',\n",
    "            ' ',' ',' ']\n",
    "print_tic_tac_toe(position,tic_tac_toe)\n",
    "rules_tic_tac_toe(tic_tac_toe)"
   ]
  },
  {
   "cell_type": "code",
   "execution_count": 291,
   "metadata": {},
   "outputs": [
    {
     "name": "stdout",
     "output_type": "stream",
     "text": [
      "['A', 'B', 'C']\n",
      "\n",
      "['D', 'E', 'F']\n",
      "\n",
      "['G', 'H', 'I']\n",
      "\n",
      "['A', 'D', 'G']\n",
      "\n",
      "['B', 'E', 'H']\n",
      "\n",
      "['C', 'F', 'I']\n",
      "\n",
      "['A', 'E', 'I']\n",
      "\n",
      "['C', 'E', 'G']\n"
     ]
    }
   ],
   "source": [
    "tic_tac_toe=['A','B','C',\n",
    "            'D','E','F',\n",
    "            'G','H','I']\n",
    "print(tic_tac_toe[:3])\n",
    "print()\n",
    "print(tic_tac_toe[3:6])\n",
    "print()\n",
    "print(tic_tac_toe[6:])\n",
    "print()\n",
    "print(tic_tac_toe[::3])\n",
    "print()\n",
    "print(tic_tac_toe[1::3])\n",
    "print()\n",
    "print(tic_tac_toe[2::3])\n",
    "print()\n",
    "print(tic_tac_toe[::4])\n",
    "print()\n",
    "print(tic_tac_toe[2::2][:-1])"
   ]
  },
  {
   "cell_type": "code",
   "execution_count": null,
   "metadata": {},
   "outputs": [],
   "source": []
  }
 ],
 "metadata": {
  "kernelspec": {
   "display_name": "Python 3",
   "language": "python",
   "name": "python3"
  },
  "language_info": {
   "codemirror_mode": {
    "name": "ipython",
    "version": 3
   },
   "file_extension": ".py",
   "mimetype": "text/x-python",
   "name": "python",
   "nbconvert_exporter": "python",
   "pygments_lexer": "ipython3",
   "version": "3.11.4"
  },
  "orig_nbformat": 4
 },
 "nbformat": 4,
 "nbformat_minor": 2
}
